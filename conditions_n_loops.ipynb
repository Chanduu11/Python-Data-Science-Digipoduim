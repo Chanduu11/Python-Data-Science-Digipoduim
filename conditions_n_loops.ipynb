{
 "cells": [
  {
   "cell_type": "code",
   "execution_count": 1,
   "metadata": {},
   "outputs": [
    {
     "name": "stdout",
     "output_type": "stream",
     "text": [
      "YAHOO\n"
     ]
    }
   ],
   "source": [
    "x=13\n",
    "if x>10:\n",
    "    print(\"YAHOO\")"
   ]
  },
  {
   "cell_type": "code",
   "execution_count": 2,
   "metadata": {},
   "outputs": [],
   "source": [
    "x=10\n",
    "y=3\n"
   ]
  },
  {
   "cell_type": "code",
   "execution_count": 3,
   "metadata": {},
   "outputs": [
    {
     "name": "stdout",
     "output_type": "stream",
     "text": [
      "x is greater than y and x is positive\n"
     ]
    }
   ],
   "source": [
    "if x>y:\n",
    "    print('x is greater than y and x is positive')"
   ]
  },
  {
   "cell_type": "code",
   "execution_count": 4,
   "metadata": {},
   "outputs": [
    {
     "name": "stdout",
     "output_type": "stream",
     "text": [
      "x is greater than y and x is positive\n"
     ]
    }
   ],
   "source": [
    "if x>y and x>0:\n",
    "    print(\"x is greater than y and x is positive\")"
   ]
  },
  {
   "cell_type": "code",
   "execution_count": 5,
   "metadata": {},
   "outputs": [
    {
     "name": "stdout",
     "output_type": "stream",
     "text": [
      "x is greater than 5 and y is gretaer than 3\n"
     ]
    }
   ],
   "source": [
    "if x>5:\n",
    "    if y>1:\n",
    "        print(\"x is greater than 5 and y is gretaer than 3\")"
   ]
  },
  {
   "cell_type": "code",
   "execution_count": 6,
   "metadata": {},
   "outputs": [
    {
     "name": "stdout",
     "output_type": "stream",
     "text": [
      "x is greater than 5\n"
     ]
    }
   ],
   "source": [
    "if x>5:\n",
    "    print(\"x is greater than 5\")\n",
    "else:\n",
    "    print(\"x is not greater than 5\")"
   ]
  },
  {
   "cell_type": "code",
   "execution_count": 7,
   "metadata": {},
   "outputs": [
    {
     "name": "stdout",
     "output_type": "stream",
     "text": [
      "x is not greater than 5\n"
     ]
    }
   ],
   "source": [
    "if x>15:\n",
    "    if y>1:\n",
    "        print(\"x and y are greater than 5\")\n",
    "    else :\n",
    "        print(\"x is greater than 5 but y is not greater than 5\")\n",
    "else:\n",
    "    print(\"x is not greater than 5\")"
   ]
  },
  {
   "cell_type": "code",
   "execution_count": 9,
   "metadata": {},
   "outputs": [
    {
     "name": "stdout",
     "output_type": "stream",
     "text": [
      "number is even\n"
     ]
    }
   ],
   "source": [
    "x=int(input(\"enter a number\"))\n",
    "if x%2==0:\n",
    "    print(\"number is even\")\n",
    "else:\n",
    "    print(\"number is odd\")"
   ]
  },
  {
   "cell_type": "code",
   "execution_count": 11,
   "metadata": {},
   "outputs": [
    {
     "name": "stdout",
     "output_type": "stream",
     "text": [
      "z is greater than x and y\n"
     ]
    }
   ],
   "source": [
    "#multiple conditional statements \n",
    "x,y,z=10,3,15\n",
    "if x>y and x>z:\n",
    "    print(\"x is greater than y and z\")\n",
    "elif y>z and y>x:\n",
    "    print('y is greater than x and z')\n",
    "elif z>x and z>y:\n",
    "    print(\"z is greater than x and y\")\n",
    "else:\n",
    "    print(\"all values are equal\")"
   ]
  },
  {
   "cell_type": "code",
   "execution_count": 14,
   "metadata": {},
   "outputs": [
    {
     "name": "stdout",
     "output_type": "stream",
     "text": [
      "Today is Sunday\n"
     ]
    }
   ],
   "source": [
    "day=input(\"enter the day of the week\")\n",
    "match day:\n",
    "    case 'Monday':\n",
    "        print(\"Today is Monday\")\n",
    "    case 'Tuesday':\n",
    "        print(\"Today is Tuesday\")\n",
    "     # ... \n",
    "    case 'Sunday':\n",
    "        print(\"Today is Sunday\")\n",
    "    # default case\n",
    "    case _:\n",
    "        print(\"Invalid Day\")\n",
    " "
   ]
  },
  {
   "cell_type": "code",
   "execution_count": null,
   "metadata": {},
   "outputs": [],
   "source": []
  }
 ],
 "metadata": {
  "kernelspec": {
   "display_name": "base",
   "language": "python",
   "name": "python3"
  },
  "language_info": {
   "codemirror_mode": {
    "name": "ipython",
    "version": 3
   },
   "file_extension": ".py",
   "mimetype": "text/x-python",
   "name": "python",
   "nbconvert_exporter": "python",
   "pygments_lexer": "ipython3",
   "version": "3.10.10"
  },
  "orig_nbformat": 4
 },
 "nbformat": 4,
 "nbformat_minor": 2
}
