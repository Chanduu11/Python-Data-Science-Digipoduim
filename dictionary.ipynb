{
 "cells": [
  {
   "attachments": {},
   "cell_type": "markdown",
   "metadata": {},
   "source": [
    "- ### creating dictionary"
   ]
  },
  {
   "cell_type": "code",
   "execution_count": 1,
   "metadata": {},
   "outputs": [],
   "source": [
    "fruits={\n",
    "    \"apple\":2,\n",
    "    \"banana\":3,\n",
    "    \"mango\":4\n",
    "}"
   ]
  },
  {
   "cell_type": "code",
   "execution_count": 2,
   "metadata": {},
   "outputs": [],
   "source": [
    "grocery={\n",
    "    'fruits':['apple','banana','orange','kiwi'],\n",
    "    'vegetables':['onion','carrot','potato'],\n",
    "    'dairy':['cheese','milk','yogurt'],\n",
    "    'meat': None\n",
    "}"
   ]
  },
  {
   "cell_type": "code",
   "execution_count": 45,
   "metadata": {},
   "outputs": [],
   "source": [
    "reports={\n",
    "    'ramesh':{\n",
    "        'english':60,\n",
    "        'maths':80  ,\n",
    "        'hindi':90\n",
    "            },\n",
    "    'suresh':{\n",
    "        'english':89,\n",
    "        'maths':48,\n",
    "        'hindi':78\n",
    "    },\n",
    "    'rakesh': {\n",
    "    'english':60,\n",
    "    'maths':50,\n",
    "    'hindi':70\n",
    "    }\n",
    "}\n"
   ]
  },
  {
   "cell_type": "code",
   "execution_count": 46,
   "metadata": {},
   "outputs": [
    {
     "name": "stdout",
     "output_type": "stream",
     "text": [
      "{'mango': 9}\n",
      "{'ramesh': {'english': 60, 'maths': 80, 'hindi': 90},\n",
      " 'suresh': {'english': 89, 'maths': 48, 'hindi': 78},\n",
      " 'rakesh': {'english': 60, 'maths': 50, 'hindi': 70}}\n"
     ]
    }
   ],
   "source": [
    "print(fruits)\n",
    "pp(reports)"
   ]
  },
  {
   "cell_type": "code",
   "execution_count": 9,
   "metadata": {},
   "outputs": [
    {
     "name": "stdout",
     "output_type": "stream",
     "text": [
      "{'apple': 2, 'banana': 3, 'mango': 4}\n",
      "{'ramesh': {'english': 60, 'maths': 80, 'hindi': 90},\n",
      " 'suresh': {'english': 89, 'maths': 48, 'hindi': 78}}\n",
      "{'fruits': ['apple', 'banana', 'orange', 'kiwi'],\n",
      " 'vegetables': ['onion', 'carrot', 'potato'],\n",
      " 'dairy': ['cheese', 'milk', 'yogurt'],\n",
      " 'meat': None}\n"
     ]
    }
   ],
   "source": [
    "from pprint import pp\n",
    "pp(fruits)\n",
    "pp(reports)\n",
    "pp(grocery)"
   ]
  },
  {
   "attachments": {},
   "cell_type": "markdown",
   "metadata": {},
   "source": [
    "- fetch\n",
    "- update\n",
    "- add\n",
    "- delete"
   ]
  },
  {
   "cell_type": "code",
   "execution_count": 10,
   "metadata": {},
   "outputs": [
    {
     "name": "stdout",
     "output_type": "stream",
     "text": [
      "{'apple': 10, 'banana': 3, 'mango': 4}\n"
     ]
    }
   ],
   "source": [
    "fruits['apple']=10 #update value in dictionary\n",
    "pp(fruits)"
   ]
  },
  {
   "cell_type": "code",
   "execution_count": 11,
   "metadata": {},
   "outputs": [
    {
     "name": "stdout",
     "output_type": "stream",
     "text": [
      "{'apple': 10, 'banana': 3, 'mango': 9}\n"
     ]
    }
   ],
   "source": [
    "fruits['mango']=9 #add a new key value pair in the dictionary\n",
    "pp(fruits)"
   ]
  },
  {
   "cell_type": "code",
   "execution_count": 12,
   "metadata": {},
   "outputs": [
    {
     "name": "stdout",
     "output_type": "stream",
     "text": [
      "{'fruits': ['apple', 'banana', 'orange', 'kiwi'],\n",
      " 'vegetables': ['onion', 'carrot', 'potato'],\n",
      " 'dairy': ['cheese', 'milk', 'yogurt'],\n",
      " 'meat': None,\n",
      " 'spices': ['cumin', 'coriander', 'turmeric']}\n"
     ]
    }
   ],
   "source": [
    "grocery['spices']=['cumin','coriander','turmeric']\n",
    "pp(grocery)"
   ]
  },
  {
   "cell_type": "code",
   "execution_count": 14,
   "metadata": {},
   "outputs": [
    {
     "name": "stdout",
     "output_type": "stream",
     "text": [
      "{'fruits': ['apple', 'banana', 'orange', 'kiwi', 'mango', 'mango'],\n",
      " 'vegetables': ['onion', 'carrot', 'potato'],\n",
      " 'dairy': ['cheese', 'milk', 'yogurt'],\n",
      " 'meat': None,\n",
      " 'spices': ['cumin', 'coriander', 'turmeric']}\n"
     ]
    }
   ],
   "source": [
    "grocery['fruits'].append('mango') #add new value in list\n",
    "pp(grocery)"
   ]
  },
  {
   "cell_type": "code",
   "execution_count": 17,
   "metadata": {},
   "outputs": [
    {
     "name": "stdout",
     "output_type": "stream",
     "text": [
      "{'ramesh': {'english': 60, 'maths': 80, 'hindi': 90, 'evs': 99},\n",
      " 'suresh': {'english': 89, 'maths': 48, 'hindi': 78}}\n"
     ]
    }
   ],
   "source": [
    "reports['ramesh']['evs']=99\n",
    "pp(reports)"
   ]
  },
  {
   "cell_type": "code",
   "execution_count": 29,
   "metadata": {},
   "outputs": [
    {
     "data": {
      "text/plain": [
       "10"
      ]
     },
     "execution_count": 29,
     "metadata": {},
     "output_type": "execute_result"
    }
   ],
   "source": [
    "fruits.pop('apple') #remove key value pair from dictionary\n",
    " "
   ]
  },
  {
   "cell_type": "code",
   "execution_count": 33,
   "metadata": {},
   "outputs": [
    {
     "data": {
      "text/plain": [
       "{'english': 89, 'maths': 48, 'hindi': 78}"
      ]
     },
     "execution_count": 33,
     "metadata": {},
     "output_type": "execute_result"
    }
   ],
   "source": [
    "reports.pop('suresh')\n",
    " "
   ]
  },
  {
   "cell_type": "code",
   "execution_count": 34,
   "metadata": {},
   "outputs": [],
   "source": [
    "grocery['vegetables'].remove('carrot') #removes from the list"
   ]
  },
  {
   "cell_type": "code",
   "execution_count": 35,
   "metadata": {},
   "outputs": [
    {
     "name": "stdout",
     "output_type": "stream",
     "text": [
      "{'fruits': ['apple', 'banana', 'orange', 'kiwi', 'mango', 'mango'],\n",
      " 'vegetables': ['onion', 'potato'],\n",
      " 'dairy': ['cheese', 'milk', 'yogurt'],\n",
      " 'meat': None,\n",
      " 'spices': ['cumin', 'coriander', 'turmeric']}\n"
     ]
    }
   ],
   "source": [
    "pp(grocery) "
   ]
  },
  {
   "cell_type": "code",
   "execution_count": 36,
   "metadata": {},
   "outputs": [
    {
     "data": {
      "text/plain": [
       "dict_keys(['mango'])"
      ]
     },
     "execution_count": 36,
     "metadata": {},
     "output_type": "execute_result"
    }
   ],
   "source": [
    "fruits.keys() # get key values from dictionary"
   ]
  },
  {
   "cell_type": "code",
   "execution_count": 37,
   "metadata": {},
   "outputs": [
    {
     "data": {
      "text/plain": [
       "dict_values([9])"
      ]
     },
     "execution_count": 37,
     "metadata": {},
     "output_type": "execute_result"
    }
   ],
   "source": [
    "fruits.values() # get all key value pair form dictionary"
   ]
  },
  {
   "attachments": {},
   "cell_type": "markdown",
   "metadata": {},
   "source": [
    "- ### traversal"
   ]
  },
  {
   "cell_type": "code",
   "execution_count": 39,
   "metadata": {},
   "outputs": [
    {
     "name": "stdout",
     "output_type": "stream",
     "text": [
      "mango 9\n"
     ]
    }
   ],
   "source": [
    "for k,v in fruits.items():\n",
    "    print(k,v)"
   ]
  },
  {
   "cell_type": "code",
   "execution_count": 41,
   "metadata": {},
   "outputs": [],
   "source": [
    "reports.get('suresh')"
   ]
  },
  {
   "cell_type": "code",
   "execution_count": 42,
   "metadata": {},
   "outputs": [
    {
     "data": {
      "text/plain": [
       "'ye student kabhi aya hi nhi'"
      ]
     },
     "execution_count": 42,
     "metadata": {},
     "output_type": "execute_result"
    }
   ],
   "source": [
    "reports.get('rajesh','ye student kabhi aya hi nhi')"
   ]
  },
  {
   "cell_type": "code",
   "execution_count": 47,
   "metadata": {},
   "outputs": [
    {
     "name": "stdout",
     "output_type": "stream",
     "text": [
      "{'ramesh': {'english': 60, 'maths': 80, 'hindi': 90},\n",
      " 'suresh': {'english': 89, 'maths': 48, 'hindi': 78},\n",
      " 'rakesh': {'english': 60, 'maths': 50, 'hindi': 70},\n",
      " 'sunita': {'English': 90, 'Maths': 80, 'Science': 70}}\n"
     ]
    }
   ],
   "source": [
    "reports['sunita']={\n",
    "    'English':90,\n",
    "    'Maths':80,\n",
    "    'Science':70\n",
    "}\n",
    "pp(reports)"
   ]
  },
  {
   "cell_type": "code",
   "execution_count": 50,
   "metadata": {},
   "outputs": [
    {
     "name": "stdout",
     "output_type": "stream",
     "text": [
      "ramesh\n",
      "60 in english\n",
      "80 in maths\n",
      "90 in hindi\n",
      "------------------------------\n",
      "suresh\n",
      "89 in english\n",
      "48 in maths\n",
      "78 in hindi\n",
      "------------------------------\n",
      "rakesh\n",
      "60 in english\n",
      "50 in maths\n",
      "70 in hindi\n",
      "------------------------------\n",
      "sunita\n",
      "90 in English\n",
      "80 in Maths\n",
      "70 in Science\n",
      "------------------------------\n"
     ]
    }
   ],
   "source": [
    "for student,detail in reports.items():\n",
    "    print(student)\n",
    "    for subject,marks in detail.items():\n",
    "        print(f'{marks} in {subject}')\n",
    "    print('---'*10)"
   ]
  },
  {
   "cell_type": "code",
   "execution_count": 6,
   "metadata": {},
   "outputs": [],
   "source": [
    "employee={\n",
    "    'e1':{\n",
    "        'name':'Alex',\n",
    "        'department':'HR',\n",
    "        'salary':'100000',\n",
    "        'skills':['communication','management'],\n",
    "        'projects': {\n",
    "            'project1':{\n",
    "                'project_name':'HRMS',\n",
    "                'project_duration':'6',\n",
    "                'project_technology':['ecxel','power bi','powerpoint']\n",
    "            },\n",
    "        }\n",
    "\n",
    "    },\n",
    "    'e2':{\n",
    "        'name':'Alice',\n",
    "        'department':'IT',\n",
    "        'salary':'80000',\n",
    "        'skills':['java','python'],\n",
    "        'projects': {\n",
    "            'project1':{\n",
    "                'project_name':'IT_Training',\n",
    "                'project_duration':'3',\n",
    "                'project_technology':['word','bluej','powerpoint']\n",
    "            },\n",
    "        }\n",
    "\n",
    "    },\n",
    "    'e3':{\n",
    "        'name':'Julie',\n",
    "        'department':'NO',\n",
    "        'salary':'NO',\n",
    "        'skills':'NO SKILLS',\n",
    "        'projects': {\n",
    "            'project1':{\n",
    "                'project_name':'NO',\n",
    "                'project_duration':'NO',\n",
    "                'project_technology': 'NO'\n",
    "            },\n",
    "        }\n",
    "\n",
    "    },\n",
    "    'e4':{\n",
    "        'name':'Jack',\n",
    "        'department':'Arts',\n",
    "        'salary':'60000',\n",
    "        'skills':['sketching','shading'],\n",
    "        'projects': {\n",
    "            'project1':{\n",
    "                'project_name':'Infrastructue',\n",
    "                'project_duration':'4',\n",
    "                'project_technology':['adobe photoshop']\n",
    "            },\n",
    "        }\n",
    "\n",
    "    },\n",
    "    'e5':{\n",
    "        'name':'Dev',\n",
    "        'department':'Speaking Skills',\n",
    "        'salary':'40000',\n",
    "        'skills':['Spanish','French'],\n",
    "        'projects': {\n",
    "            'project1':{\n",
    "                'project_name':'Foreign Based Language',\n",
    "                'project_duration':'3',\n",
    "                'project_technology':'NO'\n",
    "            },\n",
    "        }\n",
    "\n",
    "    },\n",
    "}\n"
   ]
  },
  {
   "cell_type": "code",
   "execution_count": null,
   "metadata": {},
   "outputs": [],
   "source": [
    "\n",
    "\n",
    " "
   ]
  },
  {
   "cell_type": "code",
   "execution_count": null,
   "metadata": {},
   "outputs": [],
   "source": []
  }
 ],
 "metadata": {
  "kernelspec": {
   "display_name": "base",
   "language": "python",
   "name": "python3"
  },
  "language_info": {
   "codemirror_mode": {
    "name": "ipython",
    "version": 3
   },
   "file_extension": ".py",
   "mimetype": "text/x-python",
   "name": "python",
   "nbconvert_exporter": "python",
   "pygments_lexer": "ipython3",
   "version": "3.10.10"
  },
  "orig_nbformat": 4
 },
 "nbformat": 4,
 "nbformat_minor": 2
}
