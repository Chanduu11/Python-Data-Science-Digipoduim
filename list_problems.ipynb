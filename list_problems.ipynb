{
 "cells": [
  {
   "cell_type": "code",
   "execution_count": 1,
   "metadata": {},
   "outputs": [
    {
     "name": "stdout",
     "output_type": "stream",
     "text": [
      "[3, 9, 0, 9, 7, 5, 4, 32, 54, 67]\n"
     ]
    }
   ],
   "source": [
    "numbers = []\n",
    "for i in range(10):\n",
    "    values = int(input(\"Enter a number:\"))\n",
    "    numbers.append(values)\n",
    "print(numbers)"
   ]
  },
  {
   "cell_type": "code",
   "execution_count": 2,
   "metadata": {},
   "outputs": [
    {
     "name": "stdout",
     "output_type": "stream",
     "text": [
      "Present\n"
     ]
    }
   ],
   "source": [
    "val = [1,2,3,4,5,6,7,8,9,9,10]\n",
    "num = int(input('Enter a number to find in the list'))\n",
    "if num in val:\n",
    "    print(\"Present\")\n",
    "else:\n",
    "    print(\"Absent\")"
   ]
  },
  {
   "cell_type": "code",
   "execution_count": 3,
   "metadata": {},
   "outputs": [
    {
     "name": "stdout",
     "output_type": "stream",
     "text": [
      "['Alex', 'Harry', 'Peters', 'Tom']\n"
     ]
    }
   ],
   "source": [
    "name_List = ['Alex','Peters','Harry','Tom']\n",
    "name_List.sort()\n",
    "print(name_List)"
   ]
  },
  {
   "cell_type": "code",
   "execution_count": 5,
   "metadata": {},
   "outputs": [
    {
     "name": "stdout",
     "output_type": "stream",
     "text": [
      "Largest element is: 56\n"
     ]
    }
   ],
   "source": [
    "def myMax(list1):\n",
    "    max = list1[0]\n",
    "    for x in list1:\n",
    "        if x > max:\n",
    "            max = x\n",
    "    return max\n",
    " \n",
    "list1 = [20,43,56,12,48]\n",
    "print(\"Largest element is:\", myMax(list1))"
   ]
  },
  {
   "cell_type": "code",
   "execution_count": 7,
   "metadata": {},
   "outputs": [
    {
     "name": "stdout",
     "output_type": "stream",
     "text": [
      "Common element in two list: True\n"
     ]
    }
   ],
   "source": [
    "n1 = [1,2,3,4,5,6,6,7,8]\n",
    "n2 = [1,2,3,4,5,5,6,7,8]\n",
    "for x in n1:\n",
    "    for y in n2:\n",
    "        if x==y:\n",
    "            result = True\n",
    "print('Common element in two list:',result)"
   ]
  },
  {
   "cell_type": "code",
   "execution_count": 8,
   "metadata": {},
   "outputs": [
    {
     "name": "stdout",
     "output_type": "stream",
     "text": [
      "The list after removing element is: [56, 34, 87, 90, 100, 435]\n"
     ]
    }
   ],
   "source": [
    "Integer_List = [56,34,87,90,100,435,666]\n",
    "val = int(input('Enter an integer user wants to remove'))\n",
    "for x in Integer_List:\n",
    "    if val == x:\n",
    "        Integer_List.remove(x)\n",
    "\n",
    "print(\"The list after removing element is:\",Integer_List)"
   ]
  },
  {
   "cell_type": "code",
   "execution_count": 10,
   "metadata": {},
   "outputs": [
    {
     "name": "stdout",
     "output_type": "stream",
     "text": [
      " Number of even numbers of the list are: 3\n"
     ]
    }
   ],
   "source": [
    "int_val = [10,9,7,6,5,4,3,21]\n",
    "sum =0\n",
    "for i in int_val:\n",
    "    if i%2==0:\n",
    "        sum+=1\n",
    "print(\" Number of even numbers of the list are:\",sum)"
   ]
  },
  {
   "cell_type": "code",
   "execution_count": 12,
   "metadata": {},
   "outputs": [
    {
     "name": "stdout",
     "output_type": "stream",
     "text": [
      "The original list: [3, 4, 54, 87, 22, 55, 89, 90, 100]\n",
      "Median of the list =  55.0\n"
     ]
    }
   ],
   "source": [
    "list2 =[3,4,54,87,22,55,89,90,100]\n",
    "print('The original list:',str(list2))\n",
    "list2.sort()\n",
    "mid = len(list2)//2 \n",
    "res =(list2[mid]+list2[~mid]) /2\n",
    "print('Median of the list = ',str(res))"
   ]
  },
  {
   "cell_type": "code",
   "execution_count": null,
   "metadata": {},
   "outputs": [],
   "source": []
  }
 ],
 "metadata": {
  "kernelspec": {
   "display_name": "base",
   "language": "python",
   "name": "python3"
  },
  "language_info": {
   "codemirror_mode": {
    "name": "ipython",
    "version": 3
   },
   "file_extension": ".py",
   "mimetype": "text/x-python",
   "name": "python",
   "nbconvert_exporter": "python",
   "pygments_lexer": "ipython3",
   "version": "3.10.10"
  },
  "orig_nbformat": 4
 },
 "nbformat": 4,
 "nbformat_minor": 2
}
