{
 "cells": [
  {
   "cell_type": "code",
   "execution_count": 1,
   "metadata": {},
   "outputs": [
    {
     "name": "stdout",
     "output_type": "stream",
     "text": [
      "1\n",
      "2\n",
      "3\n",
      "4\n",
      "5\n",
      "6\n",
      "7\n",
      "8\n",
      "9\n",
      "10\n"
     ]
    }
   ],
   "source": [
    "#Write a program to print numbers from 1 to 10 using a for loop.\n",
    "for i in range(1, 11):\n",
    "    print(i)"
   ]
  },
  {
   "cell_type": "code",
   "execution_count": 4,
   "metadata": {},
   "outputs": [
    {
     "name": "stdout",
     "output_type": "stream",
     "text": [
      "1 * 4 = 4\n",
      "2 * 4 = 8\n",
      "3 * 4 = 12\n",
      "4 * 4 = 16\n",
      "5 * 4 = 20\n",
      "6 * 4 = 24\n",
      "7 * 4 = 28\n",
      "8 * 4 = 32\n",
      "9 * 4 = 36\n",
      "10 * 4 = 40\n",
      "11 * 4 = 44\n",
      "12 * 4 = 48\n",
      "13 * 4 = 52\n",
      "14 * 4 = 56\n",
      "15 * 4 = 60\n",
      "16 * 4 = 64\n",
      "17 * 4 = 68\n",
      "18 * 4 = 72\n",
      "19 * 4 = 76\n",
      "20 * 4 = 80\n"
     ]
    }
   ],
   "source": [
    "#Write a program to print the multiplication table of a given number using a while loop\n",
    "t=int(input(\"Enter the table :\"))\n",
    "s=int(input(\"Enter the starting number : \"))\n",
    "lim=int(input(\"Enter the limit :\"))\n",
    "while(s<=lim):\n",
    "  print(s,\"*\",t,\"=\",s*t)\n",
    "  s=s+1"
   ]
  },
  {
   "cell_type": "code",
   "execution_count": 5,
   "metadata": {},
   "outputs": [
    {
     "name": "stdout",
     "output_type": "stream",
     "text": [
      "The sum of all even numbers between 1 and 100 is: 2550\n"
     ]
    }
   ],
   "source": [
    "#Write a program to find the sum of all even numbers between 1 and 100 using a for loop\n",
    "sum_of_even = 0\n",
    "for num in range(2, 101, 2):\n",
    "    sum_of_even += num\n",
    "print(\"The sum of all even numbers between 1 and 100 is:\", sum_of_even)"
   ]
  },
  {
   "cell_type": "code",
   "execution_count": 6,
   "metadata": {},
   "outputs": [
    {
     "name": "stdout",
     "output_type": "stream",
     "text": [
      "The factorial of 3 is 6\n"
     ]
    }
   ],
   "source": [
    "\n",
    "#Write a program to calculate the factorial of a number using a for loop\n",
    "n = int(input(\"Enter a number: \"))\n",
    "fact = 1\n",
    "if num < 0:\n",
    "   print(\"Sorry, factorial does not exist for negative numbers\")\n",
    "elif num == 0:\n",
    "   print(\"The factorial of 0 is 1\")\n",
    "else:\n",
    "   for i in range(1,n + 1):\n",
    "       fact = fact*i\n",
    "   print(\"The factorial of\",n,\"is\",fact)"
   ]
  },
  {
   "cell_type": "code",
   "execution_count": 7,
   "metadata": {},
   "outputs": [
    {
     "name": "stdout",
     "output_type": "stream",
     "text": [
      "madam is Palindrome.\n"
     ]
    }
   ],
   "source": [
    "# Write a program to check if a given string is a palindrome using a while loop\n",
    "\n",
    "str=input(\"Enter String: \")\n",
    "i=0\n",
    "j=len(str)-1\n",
    "check=True\n",
    "while i<=j:\n",
    "    if(str[i]!=str[j]):\n",
    "        check=False\n",
    "        break\n",
    "    i+=1\n",
    "    j-=1\n",
    " \n",
    "if check:\n",
    "    print(f\"{str} is Palindrome.\")\n",
    "else:\n",
    "    print(f\"{str} is not a Palindrome.\")"
   ]
  },
  {
   "cell_type": "code",
   "execution_count": 12,
   "metadata": {},
   "outputs": [
    {
     "name": "stdout",
     "output_type": "stream",
     "text": [
      "1009\n"
     ]
    }
   ],
   "source": [
    "#Write a program to find the largest element in an array using a for loop\n",
    "lst = [54, 689, 1009, 788]\n",
    "l = lst[0]\n",
    "for i in lst:\n",
    "    if i>l:\n",
    "        l = i\n",
    "print(l)"
   ]
  },
  {
   "cell_type": "code",
   "execution_count": null,
   "metadata": {},
   "outputs": [],
   "source": []
  }
 ],
 "metadata": {
  "kernelspec": {
   "display_name": "base",
   "language": "python",
   "name": "python3"
  },
  "language_info": {
   "codemirror_mode": {
    "name": "ipython",
    "version": 3
   },
   "file_extension": ".py",
   "mimetype": "text/x-python",
   "name": "python",
   "nbconvert_exporter": "python",
   "pygments_lexer": "ipython3",
   "version": "3.10.10"
  },
  "orig_nbformat": 4
 },
 "nbformat": 4,
 "nbformat_minor": 2
}
