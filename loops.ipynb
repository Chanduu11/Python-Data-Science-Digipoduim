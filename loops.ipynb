{
 "cells": [
  {
   "cell_type": "code",
   "execution_count": 2,
   "metadata": {},
   "outputs": [
    {
     "name": "stdout",
     "output_type": "stream",
     "text": [
      "apple\n",
      "banana\n",
      "orange\n",
      "cherry\n",
      "melon\n",
      "kiwi\n",
      "mango\n"
     ]
    }
   ],
   "source": [
    "fruits=['apple','banana','orange','cherry','melon','kiwi','mango']\n",
    "for fruit in fruits:\n",
    "    print(fruit) #prints the iterative value"
   ]
  },
  {
   "cell_type": "code",
   "execution_count": 3,
   "metadata": {},
   "outputs": [
    {
     "name": "stdout",
     "output_type": "stream",
     "text": [
      "(0, 'apple')\n",
      "(1, 'banana')\n",
      "(2, 'orange')\n",
      "(3, 'cherry')\n",
      "(4, 'melon')\n",
      "(5, 'kiwi')\n",
      "(6, 'mango')\n"
     ]
    }
   ],
   "source": [
    "#enumerate used for indexing with values \n",
    "for item in enumerate(fruits):\n",
    "    print(item)"
   ]
  },
  {
   "cell_type": "code",
   "execution_count": 4,
   "metadata": {},
   "outputs": [
    {
     "name": "stdout",
     "output_type": "stream",
     "text": [
      "0 apple\n",
      "1 banana\n",
      "2 orange\n",
      "3 cherry\n",
      "4 melon\n",
      "5 kiwi\n",
      "6 mango\n"
     ]
    }
   ],
   "source": [
    "#without using enumerate\n",
    "c=0\n",
    "for fruit in fruits:\n",
    "    print(c,fruit)\n",
    "    c+=1"
   ]
  },
  {
   "cell_type": "code",
   "execution_count": 6,
   "metadata": {},
   "outputs": [
    {
     "name": "stdout",
     "output_type": "stream",
     "text": [
      "0=>apple\n",
      "1=>banana\n",
      "2=>orange\n",
      "3=>cherry\n",
      "4=>melon\n",
      "5=>kiwi\n",
      "6=>mango\n"
     ]
    }
   ],
   "source": [
    "for idx,val in enumerate(fruits):\n",
    "  print(f'{idx}=>{val}')"
   ]
  },
  {
   "cell_type": "code",
   "execution_count": 7,
   "metadata": {},
   "outputs": [
    {
     "name": "stdout",
     "output_type": "stream",
     "text": [
      "0=>apple\n",
      "2=>orange\n",
      "4=>melon\n",
      "6=>mango\n"
     ]
    }
   ],
   "source": [
    "#index based selection\n",
    "for idx,val in enumerate(fruits):\n",
    "    if idx%2==0:\n",
    "        print(f'{idx}=>{val}')"
   ]
  },
  {
   "cell_type": "code",
   "execution_count": 9,
   "metadata": {},
   "outputs": [
    {
     "name": "stdout",
     "output_type": "stream",
     "text": [
      "apple\n",
      "banana\n",
      "orange\n"
     ]
    }
   ],
   "source": [
    "#index based control\n",
    "for idx,val in enumerate(fruits):\n",
    "  if idx==3:\n",
    "    break\n",
    "  print(val)"
   ]
  },
  {
   "cell_type": "code",
   "execution_count": 10,
   "metadata": {},
   "outputs": [
    {
     "name": "stdout",
     "output_type": "stream",
     "text": [
      "1 4 7\n",
      "2 5 8\n",
      "3 6 9\n"
     ]
    }
   ],
   "source": [
    "#zip function\n",
    "x=[1,2,3]\n",
    "y=[4,5,6]\n",
    "z=[7,8,9]\n",
    "for i,j,k in zip(x,y,z):\n",
    "    print(i,j,k)\n"
   ]
  },
  {
   "cell_type": "code",
   "execution_count": 11,
   "metadata": {},
   "outputs": [
    {
     "name": "stdout",
     "output_type": "stream",
     "text": [
      "12\n",
      "15\n",
      "18\n"
     ]
    }
   ],
   "source": [
    "#addition in zip file in a single loop\n",
    "for i,j,k in zip(x,y,z):\n",
    "    print(i+j+k)"
   ]
  },
  {
   "cell_type": "code",
   "execution_count": 12,
   "metadata": {},
   "outputs": [
    {
     "name": "stdout",
     "output_type": "stream",
     "text": [
      "12 15 18 "
     ]
    }
   ],
   "source": [
    "for i,j,k in zip(x,y,z):\n",
    "    print(i+j+k,end=' ')# in a same line"
   ]
  },
  {
   "cell_type": "code",
   "execution_count": 14,
   "metadata": {},
   "outputs": [
    {
     "name": "stdout",
     "output_type": "stream",
     "text": [
      "1\n",
      "2\n",
      "3\n",
      "loop completed\n"
     ]
    }
   ],
   "source": [
    "for i in x:\n",
    "    print(i)\n",
    "else:\n",
    "    print('loop completed')"
   ]
  },
  {
   "cell_type": "code",
   "execution_count": 15,
   "metadata": {},
   "outputs": [
    {
     "name": "stdout",
     "output_type": "stream",
     "text": [
      "1\n",
      "2\n"
     ]
    }
   ],
   "source": [
    "for i in x:\n",
    "    if i==3:\n",
    "        break\n",
    "    print(i)\n",
    "else:\n",
    "    print('loop completed')"
   ]
  },
  {
   "cell_type": "code",
   "execution_count": 16,
   "metadata": {},
   "outputs": [
    {
     "name": "stdout",
     "output_type": "stream",
     "text": [
      "prime\n"
     ]
    }
   ],
   "source": [
    "#prime number \n",
    "x=int(input('enter a number'))\n",
    "for i in range(2,x):\n",
    "    if x%2==0:\n",
    "        print('not prime')\n",
    "        break\n",
    "else:\n",
    "    print('prime')"
   ]
  },
  {
   "cell_type": "code",
   "execution_count": 19,
   "metadata": {},
   "outputs": [
    {
     "name": "stdout",
     "output_type": "stream",
     "text": [
      "you entered 20\n"
     ]
    }
   ],
   "source": [
    "#while loop(we can run infinte loop in python using while loop only)\n",
    "x=0\n",
    "while x<10:\n",
    " x=int(input('enter a value of x:'))\n",
    " print(f'you entered {x}')"
   ]
  },
  {
   "cell_type": "code",
   "execution_count": 25,
   "metadata": {},
   "outputs": [
    {
     "name": "stdout",
     "output_type": "stream",
     "text": [
      "3+5=8\n",
      "1+3=4\n"
     ]
    }
   ],
   "source": [
    "while True:\n",
    "    a=int(input(\"enter a value for a:\"))\n",
    "    b=int(input(\"enter a value for b:\"))\n",
    "    total=a+b\n",
    "    print(f'{a}+{b}={total}')\n",
    "    if input('do you want to calculate? y/n')=='n':\n",
    "        break"
   ]
  },
  {
   "cell_type": "code",
   "execution_count": 22,
   "metadata": {},
   "outputs": [
    {
     "name": "stdout",
     "output_type": "stream",
     "text": [
      " once upon\n",
      "a time \n",
      "there is a cat\n",
      "and there is lion\n",
      "\n"
     ]
    }
   ],
   "source": [
    "story=\" \"\n",
    "while True:\n",
    "    line=input('enter a line')\n",
    "    if line:\n",
    "        story+=line+'\\n'\n",
    "    else:\n",
    "        break\n",
    "print(story)"
   ]
  },
  {
   "cell_type": "code",
   "execution_count": null,
   "metadata": {},
   "outputs": [],
   "source": []
  }
 ],
 "metadata": {
  "kernelspec": {
   "display_name": "base",
   "language": "python",
   "name": "python3"
  },
  "language_info": {
   "codemirror_mode": {
    "name": "ipython",
    "version": 3
   },
   "file_extension": ".py",
   "mimetype": "text/x-python",
   "name": "python",
   "nbconvert_exporter": "python",
   "pygments_lexer": "ipython3",
   "version": "3.10.10"
  },
  "orig_nbformat": 4
 },
 "nbformat": 4,
 "nbformat_minor": 2
}
