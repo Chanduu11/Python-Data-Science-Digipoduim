{
 "cells": [
  {
   "cell_type": "code",
   "execution_count": 2,
   "metadata": {},
   "outputs": [
    {
     "name": "stdout",
     "output_type": "stream",
     "text": [
      "odd number\n"
     ]
    }
   ],
   "source": [
    "x=int(input('enter a number'))\n",
    "if x%2==1:\n",
    "  print(\"odd number\")\n",
    "else:\n",
    "  print('even number')\n"
   ]
  },
  {
   "cell_type": "code",
   "execution_count": 3,
   "metadata": {},
   "outputs": [
    {
     "name": "stdout",
     "output_type": "stream",
     "text": [
      "Leap year\n"
     ]
    }
   ],
   "source": [
    "year=int(input('enter the year'))\n",
    "if year%4==0:\n",
    "    print('Leap year')\n",
    "else:\n",
    "    print('Not a leap year')"
   ]
  },
  {
   "cell_type": "code",
   "execution_count": 5,
   "metadata": {},
   "outputs": [
    {
     "name": "stdout",
     "output_type": "stream",
     "text": [
      "8\n"
     ]
    }
   ],
   "source": [
    "a=int(input('enter first number'))\n",
    "b=int(input('enter second number'))\n",
    "choice=input(\"enter the choice you want to perform\")\n",
    "match choice:\n",
    "    case'+':\n",
    "        result=a+b\n",
    "        print(result)\n",
    "    case '-':\n",
    "        result=a-b\n",
    "        print(result)\n",
    "    case '*':\n",
    "        result=a*b\n",
    "        print(result)\n",
    "    case '/':\n",
    "        result=a/b\n",
    "        print(result)\n",
    "    case'_':\n",
    "        print(\"Wrong Choice\")   \n",
    "\n"
   ]
  },
  {
   "cell_type": "code",
   "execution_count": null,
   "metadata": {},
   "outputs": [],
   "source": []
  }
 ],
 "metadata": {
  "kernelspec": {
   "display_name": "base",
   "language": "python",
   "name": "python3"
  },
  "language_info": {
   "codemirror_mode": {
    "name": "ipython",
    "version": 3
   },
   "file_extension": ".py",
   "mimetype": "text/x-python",
   "name": "python",
   "nbconvert_exporter": "python",
   "pygments_lexer": "ipython3",
   "version": "3.10.10"
  },
  "orig_nbformat": 4
 },
 "nbformat": 4,
 "nbformat_minor": 2
}
