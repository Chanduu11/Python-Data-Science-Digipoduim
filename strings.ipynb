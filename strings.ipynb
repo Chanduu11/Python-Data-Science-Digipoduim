{
 "cells": [
  {
   "cell_type": "code",
   "execution_count": 1,
   "metadata": {},
   "outputs": [],
   "source": [
    "#strings\n",
    "a='this is a string'\n",
    "b=\"this is another string\"\n",
    "c='''this is a string\n",
    " with n number of line'''#for multiple line string \n",
    "d=b'this is a byte string'# string that holds the bytes of strings \n",
    "e=u'this is a \\nunicode string'#u is used for unicode string\n",
    "f=r'this is a \\nraw string'#"
   ]
  },
  {
   "cell_type": "code",
   "execution_count": 2,
   "metadata": {},
   "outputs": [
    {
     "name": "stdout",
     "output_type": "stream",
     "text": [
      "this is a \n",
      "unicode string\n",
      "this is a \\nraw string\n"
     ]
    }
   ],
   "source": [
    "print(e)\n",
    "print(f)"
   ]
  },
  {
   "cell_type": "code",
   "execution_count": 3,
   "metadata": {},
   "outputs": [
    {
     "name": "stdout",
     "output_type": "stream",
     "text": [
      "C:\\Users\\chand\\Documents\\Python Data Science Digipoduim\\t2.py\n"
     ]
    }
   ],
   "source": [
    "path=r'C:\\Users\\chand\\Documents\\Python Data Science Digipoduim\\t2.py'\n",
    "print(path)"
   ]
  },
  {
   "cell_type": "code",
   "execution_count": 4,
   "metadata": {},
   "outputs": [
    {
     "name": "stdout",
     "output_type": "stream",
     "text": [
      "10\n"
     ]
    }
   ],
   "source": [
    "x=10\n",
    "x=str(x) #type casting int convberted to string\n",
    "print(x)"
   ]
  },
  {
   "attachments": {},
   "cell_type": "markdown",
   "metadata": {},
   "source": [
    "=> string is a sequence of characters \n",
    "=> string is immutable\n",
    "=> string is ordered data\n",
    "=> string accepts indexing and slicing\n"
   ]
  },
  {
   "cell_type": "code",
   "execution_count": 1,
   "metadata": {},
   "outputs": [
    {
     "name": "stdout",
     "output_type": "stream",
     "text": [
      "str= digipodium\n",
      "str[0]= d\n",
      "str[1]= i\n",
      "str[-1]= m\n",
      "str[-2]= u\n"
     ]
    }
   ],
   "source": [
    "#accessing the string characters in python\n",
    "str='digipodium'\n",
    "print('str=', str)\n",
    "# first character \n",
    "print('str[0]=', str[0])\n",
    "# second character \n",
    "print('str[1]=',str[1])\n",
    "# last character \n",
    "print('str[-1]=', str[-1])\n",
    "# second last character \n",
    "print('str[-2]=', str[-2])"
   ]
  },
  {
   "cell_type": "code",
   "execution_count": 2,
   "metadata": {},
   "outputs": [
    {
     "name": "stdout",
     "output_type": "stream",
     "text": [
      "pod\n"
     ]
    }
   ],
   "source": [
    "#SLICING\n",
    "#getting a sub part of the string \n",
    "s='digipodium'\n",
    "slice1=s[4:7]\n",
    "print(slice1)"
   ]
  },
  {
   "cell_type": "code",
   "execution_count": 7,
   "metadata": {},
   "outputs": [
    {
     "name": "stdout",
     "output_type": "stream",
     "text": [
      "Vijay\n"
     ]
    }
   ],
   "source": [
    "name='Vijay Deenanath Chauhan'\n",
    "slice2=name[:5]\n",
    "print(slice2)"
   ]
  },
  {
   "cell_type": "code",
   "execution_count": 6,
   "metadata": {},
   "outputs": [
    {
     "name": "stdout",
     "output_type": "stream",
     "text": [
      "Chauhan\n"
     ]
    }
   ],
   "source": [
    "slice3=name[-7:]\n",
    "print(slice3)"
   ]
  },
  {
   "cell_type": "code",
   "execution_count": 8,
   "metadata": {},
   "outputs": [
    {
     "data": {
      "text/plain": [
       "23"
      ]
     },
     "execution_count": 8,
     "metadata": {},
     "output_type": "execute_result"
    }
   ],
   "source": [
    "len(name)"
   ]
  },
  {
   "cell_type": "code",
   "execution_count": 9,
   "metadata": {},
   "outputs": [
    {
     "data": {
      "text/plain": [
       "'Chauhan'"
      ]
     },
     "execution_count": 9,
     "metadata": {},
     "output_type": "execute_result"
    }
   ],
   "source": [
    "name[-7:len(name)]"
   ]
  },
  {
   "cell_type": "code",
   "execution_count": 10,
   "metadata": {},
   "outputs": [
    {
     "data": {
      "text/plain": [
       "'Deenanath '"
      ]
     },
     "execution_count": 10,
     "metadata": {},
     "output_type": "execute_result"
    }
   ],
   "source": [
    "name[6:16]"
   ]
  },
  {
   "cell_type": "code",
   "execution_count": 11,
   "metadata": {},
   "outputs": [],
   "source": [
    "fname=name[:5]\n",
    "lname=name[-7:]"
   ]
  },
  {
   "cell_type": "code",
   "execution_count": 13,
   "metadata": {},
   "outputs": [
    {
     "data": {
      "text/plain": [
       "'VjyDeaahCahn'"
      ]
     },
     "execution_count": 13,
     "metadata": {},
     "output_type": "execute_result"
    }
   ],
   "source": [
    "name[::2] # every second string \n"
   ]
  },
  {
   "cell_type": "code",
   "execution_count": 14,
   "metadata": {},
   "outputs": [
    {
     "data": {
      "text/plain": [
       "'nahuahC htananeeD yajiV'"
      ]
     },
     "execution_count": 14,
     "metadata": {},
     "output_type": "execute_result"
    }
   ],
   "source": [
    "name[::-1] #to reverse the string"
   ]
  },
  {
   "attachments": {},
   "cell_type": "markdown",
   "metadata": {},
   "source": [
    "-string methods \n",
    "  -validation methods\n",
    "  -isalpha\n",
    "  -isnumeric\n",
    "  -isalnum\n",
    "  -isspace\n",
    "  -isupper\n",
    "  -islower\n",
    "  -istitle\n",
    "  -startswith\n",
    "  -endswith\n",
    "\n",
    "  -formatting methods\n",
    "   -upper \n",
    "   -lower \n",
    "   -title\n",
    "   -swapcase\n",
    "   -capitalize\n",
    "   -casefold\n",
    "\n",
    "   -utility methods \n",
    "   -count\n",
    "   -find\n",
    "   -replace\n",
    "   -split\n",
    "   -join\n",
    "   -strip "
   ]
  },
  {
   "cell_type": "code",
   "execution_count": 15,
   "metadata": {},
   "outputs": [
    {
     "name": "stdout",
     "output_type": "stream",
     "text": [
      "12\n"
     ]
    }
   ],
   "source": [
    "x=input('enter a number')\n",
    "if x.isnumeric():\n",
    "    x=int(x)\n",
    "    print(x)\n",
    "else:\n",
    "    print('invalid input')"
   ]
  },
  {
   "cell_type": "code",
   "execution_count": 17,
   "metadata": {},
   "outputs": [
    {
     "name": "stdout",
     "output_type": "stream",
     "text": [
      "hello alice\n"
     ]
    }
   ],
   "source": [
    "uname=input('enter your name')\n",
    "if uname.isalpha():\n",
    "    print('hello', uname)\n",
    "else:\n",
    "    print('invalid input')"
   ]
  },
  {
   "cell_type": "code",
   "execution_count": 20,
   "metadata": {},
   "outputs": [
    {
     "name": "stdout",
     "output_type": "stream",
     "text": [
      "hello 23\n"
     ]
    }
   ],
   "source": [
    "uname=input('enter your name')\n",
    "if uname.isalnum():\n",
    "    print('hello', uname)\n",
    "else:\n",
    "    print('invalid input')"
   ]
  },
  {
   "attachments": {},
   "cell_type": "markdown",
   "metadata": {},
   "source": []
  },
  {
   "cell_type": "code",
   "execution_count": 22,
   "metadata": {},
   "outputs": [
    {
     "name": "stdout",
     "output_type": "stream",
     "text": [
      "Welcome Mr. Anand\n",
      "Welcome Mrs. Vijay\n",
      "Welcome Mrs. Ravi\n",
      "you are not invited Er. Rajesh\n",
      "Welcome Mr. Ramesh\n"
     ]
    }
   ],
   "source": [
    "names=['Mr. Anand','Mrs. Vijay','Mrs. Ravi','Er. Rajesh','Mr. Ramesh']\n",
    "for name in names:\n",
    "    if name.startswith('Mr.') or name.startswith('Mrs.'):\n",
    "        print(f'Welcome {name}')\n",
    "    else:\n",
    "        print(f'you are not invited {name}')"
   ]
  },
  {
   "cell_type": "code",
   "execution_count": 25,
   "metadata": {},
   "outputs": [
    {
     "name": "stdout",
     "output_type": "stream",
     "text": [
      "abc.txt    text file\n",
      "xyz.doc    unknown file type\n",
      "pqr.py     python file\n",
      "mno.py     python file\n",
      "def.txt    text file\n"
     ]
    }
   ],
   "source": [
    "files=['abc.txt','xyz.doc','pqr.py','mno.py','def.txt']\n",
    "for item in files:\n",
    "    if item.endswith('.txt'):\n",
    "        print(f'{item:10} text file')\n",
    "    elif item.endswith('.py'):\n",
    "        print(f'{item:10} python file')\n",
    "    else:\n",
    "        print(f'{item:10} unknown file type')"
   ]
  },
  {
   "cell_type": "code",
   "execution_count": 32,
   "metadata": {},
   "outputs": [
    {
     "name": "stdout",
     "output_type": "stream",
     "text": [
      "JOURNEY BEFORE DESTINATION\n",
      "journey before destination\n",
      "Journey Before Destination\n",
      "Journey before destination\n",
      "jOURNEY bEFORE dESTINATION\n",
      "journey before destination\n"
     ]
    }
   ],
   "source": [
    "name='Journey Before Destination'\n",
    "print(name.upper())\n",
    "print(name.lower())\n",
    "print(name.title())\n",
    "print(name.capitalize())\n",
    "print(name.swapcase())\n",
    "print(name.casefold())"
   ]
  },
  {
   "cell_type": "code",
   "execution_count": 34,
   "metadata": {},
   "outputs": [
    {
     "name": "stdout",
     "output_type": "stream",
     "text": [
      "4\n",
      "4\n"
     ]
    }
   ],
   "source": [
    "#Count function\n",
    "s='this is an example string, this is simple string'\n",
    "print(s.count('is'))\n",
    "print(s.count('t'))"
   ]
  },
  {
   "cell_type": "code",
   "execution_count": 35,
   "metadata": {},
   "outputs": [
    {
     "name": "stdout",
     "output_type": "stream",
     "text": [
      "12\n"
     ]
    }
   ],
   "source": [
    "#total vowels\n",
    "tv=s.count('a')+s.count('e')+s.count('i')+s.count('o')+s.count('u')\n",
    "print(tv)"
   ]
  },
  {
   "cell_type": "code",
   "execution_count": 38,
   "metadata": {},
   "outputs": [
    {
     "name": "stdout",
     "output_type": "stream",
     "text": [
      "11\n",
      "2\n",
      "5\n"
     ]
    }
   ],
   "source": [
    "#find function\n",
    "print(s.find('example'))\n",
    "print(s.find('is'))\n",
    "print(s.find('is', 3)) #searching from 3 index\n"
   ]
  },
  {
   "cell_type": "code",
   "execution_count": 39,
   "metadata": {},
   "outputs": [
    {
     "data": {
      "text/plain": [
       "'thwas was an example string, thwas was simple string'"
      ]
     },
     "execution_count": 39,
     "metadata": {},
     "output_type": "execute_result"
    }
   ],
   "source": [
    "s.replace('is','was') #replaces string from another string"
   ]
  },
  {
   "cell_type": "code",
   "execution_count": 40,
   "metadata": {},
   "outputs": [
    {
     "data": {
      "text/plain": [
       "'this is an example , this is simple '"
      ]
     },
     "execution_count": 40,
     "metadata": {},
     "output_type": "execute_result"
    }
   ],
   "source": [
    "s.replace('string','') #removes string"
   ]
  },
  {
   "cell_type": "code",
   "execution_count": 42,
   "metadata": {},
   "outputs": [
    {
     "data": {
      "text/plain": [
       "'this was an example string, this was simple string'"
      ]
     },
     "execution_count": 42,
     "metadata": {},
     "output_type": "execute_result"
    }
   ],
   "source": [
    "s.replace(' is ',' was ')"
   ]
  },
  {
   "cell_type": "code",
   "execution_count": 43,
   "metadata": {},
   "outputs": [
    {
     "data": {
      "text/plain": [
       "['this is an example string', ' this is simple string']"
      ]
     },
     "execution_count": 43,
     "metadata": {},
     "output_type": "execute_result"
    }
   ],
   "source": [
    "s.split(',')"
   ]
  },
  {
   "cell_type": "code",
   "execution_count": 44,
   "metadata": {},
   "outputs": [
    {
     "data": {
      "text/plain": [
       "'one--two--three--four--five'"
      ]
     },
     "execution_count": 44,
     "metadata": {},
     "output_type": "execute_result"
    }
   ],
   "source": [
    "words=['one','two','three','four','five']\n",
    "\"--\".join(words)"
   ]
  },
  {
   "cell_type": "code",
   "execution_count": 47,
   "metadata": {},
   "outputs": [
    {
     "name": "stdout",
     "output_type": "stream",
     "text": [
      "  Chandresh  \n",
      "Chandresh\n"
     ]
    }
   ],
   "source": [
    "x='  Chandresh  '\n",
    "print(x)\n",
    "print(x.strip()) # useful in data cleaning and data mining"
   ]
  },
  {
   "cell_type": "code",
   "execution_count": null,
   "metadata": {},
   "outputs": [],
   "source": []
  },
  {
   "cell_type": "markdown",
   "metadata": {},
   "source": []
  }
 ],
 "metadata": {
  "kernelspec": {
   "display_name": "base",
   "language": "python",
   "name": "python3"
  },
  "language_info": {
   "codemirror_mode": {
    "name": "ipython",
    "version": 3
   },
   "file_extension": ".py",
   "mimetype": "text/x-python",
   "name": "python",
   "nbconvert_exporter": "python",
   "pygments_lexer": "ipython3",
   "version": "3.10.10"
  },
  "orig_nbformat": 4
 },
 "nbformat": 4,
 "nbformat_minor": 2
}
