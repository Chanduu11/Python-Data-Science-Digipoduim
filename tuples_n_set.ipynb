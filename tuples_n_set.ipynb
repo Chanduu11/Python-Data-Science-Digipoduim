{
 "cells": [
  {
   "attachments": {},
   "cell_type": "markdown",
   "metadata": {},
   "source": [
    "- ### tuple\n",
    " - python default sequential data structure\n",
    " - indexed,ordered,heterogeneous\n",
    " - 'immutable'\n",
    " - represented by ()\n",
    " - faster than list\n",
    " - tuple() converts any function to tuple\n",
    "\n",
    "- ### set\n",
    " - unordered,unindexed,mutable\n",
    " - unique elements only\n",
    " - can store only immutable elements\n",
    " - represented by {}\n",
    " - set() convert any sequence to set\n"
   ]
  },
  {
   "cell_type": "code",
   "execution_count": 1,
   "metadata": {},
   "outputs": [
    {
     "name": "stdout",
     "output_type": "stream",
     "text": [
      "(1, 2, 3)\n",
      "<class 'tuple'>\n"
     ]
    }
   ],
   "source": [
    "x=(1,2,3) #tuple\n",
    "print(x)\n",
    "print(type(x))"
   ]
  },
  {
   "cell_type": "code",
   "execution_count": 2,
   "metadata": {},
   "outputs": [
    {
     "name": "stdout",
     "output_type": "stream",
     "text": [
      "(10, 20, 30)\n",
      "<class 'tuple'>\n"
     ]
    }
   ],
   "source": [
    "a=10,20,30 #without using brackets we can create tuple\n",
    "print(a)\n",
    "print(type(x))"
   ]
  },
  {
   "cell_type": "code",
   "execution_count": 3,
   "metadata": {},
   "outputs": [
    {
     "name": "stdout",
     "output_type": "stream",
     "text": [
      "(1, 2, 3)\n",
      "<class 'tuple'>\n"
     ]
    }
   ],
   "source": [
    "#single element tuple\n",
    "b=(13,)\n",
    "print(x)\n",
    "print(type(x))"
   ]
  },
  {
   "cell_type": "code",
   "execution_count": 4,
   "metadata": {},
   "outputs": [
    {
     "name": "stdout",
     "output_type": "stream",
     "text": [
      "10 20 30\n"
     ]
    }
   ],
   "source": [
    "# tuple unpacking\n",
    "x1,x2,x3=a # a has 3 elements\n",
    "print(x1,x2,x3)"
   ]
  },
  {
   "cell_type": "code",
   "execution_count": 5,
   "metadata": {},
   "outputs": [
    {
     "name": "stdout",
     "output_type": "stream",
     "text": [
      "1 2 [3, 4, 5, 6, 7, 8, 9]\n"
     ]
    }
   ],
   "source": [
    "# tuple unpacking\n",
    "a=(1,2,3,4,5,6,7,8,9)\n",
    "a1, a2, *a3=a #a3 will get remaining elements as a list\n",
    "print(a1,a2,a3)"
   ]
  },
  {
   "cell_type": "code",
   "execution_count": 6,
   "metadata": {},
   "outputs": [
    {
     "data": {
      "text/plain": [
       "(1, 2, 3, 4)"
      ]
     },
     "execution_count": 6,
     "metadata": {},
     "output_type": "execute_result"
    }
   ],
   "source": [
    "a[:4] #slicing"
   ]
  },
  {
   "cell_type": "code",
   "execution_count": 7,
   "metadata": {},
   "outputs": [
    {
     "data": {
      "text/plain": [
       "(5, 6, 7, 8, 9)"
      ]
     },
     "execution_count": 7,
     "metadata": {},
     "output_type": "execute_result"
    }
   ],
   "source": [
    "a[-5:]"
   ]
  },
  {
   "cell_type": "code",
   "execution_count": 8,
   "metadata": {},
   "outputs": [
    {
     "name": "stdout",
     "output_type": "stream",
     "text": [
      "1\n",
      "2\n",
      "3\n",
      "4\n",
      "5\n",
      "6\n",
      "7\n",
      "8\n",
      "9\n"
     ]
    }
   ],
   "source": [
    "for i in a:\n",
    "    print(i)"
   ]
  },
  {
   "cell_type": "code",
   "execution_count": 14,
   "metadata": {},
   "outputs": [
    {
     "name": "stdout",
     "output_type": "stream",
     "text": [
      "3\n",
      "3\n",
      "0\n",
      "2\n",
      "5\n"
     ]
    }
   ],
   "source": [
    "x=(1,2,3,1,2,3,1,2,3)\n",
    "print(x.count(1))\n",
    "print(x.count(2)) \n",
    "print(x.count(5))\n",
    "print(x.index(3)) # 3 is the value to search\n",
    "print(x.index(3,5)) # 3 is the value to search starting is 5\n"
   ]
  },
  {
   "cell_type": "code",
   "execution_count": 15,
   "metadata": {},
   "outputs": [
    {
     "name": "stdout",
     "output_type": "stream",
     "text": [
      "(1, 2, 3)\n",
      "[1, 2, 3]\n"
     ]
    }
   ],
   "source": [
    "a=[1,2,3]\n",
    "at=tuple(a)\n",
    "a1=list(at)\n",
    "print(at)\n",
    "print(a1)"
   ]
  },
  {
   "attachments": {},
   "cell_type": "markdown",
   "metadata": {},
   "source": [
    "- ### set"
   ]
  },
  {
   "cell_type": "code",
   "execution_count": 16,
   "metadata": {},
   "outputs": [
    {
     "name": "stdout",
     "output_type": "stream",
     "text": [
      "{1, 2, 3}\n",
      "<class 'set'>\n"
     ]
    }
   ],
   "source": [
    "s={1,2,3,1,2,3,1,2,3}\n",
    "print(s)\n",
    "print(type(s))"
   ]
  },
  {
   "cell_type": "code",
   "execution_count": 18,
   "metadata": {},
   "outputs": [
    {
     "name": "stdout",
     "output_type": "stream",
     "text": [
      "{1, 2, 3, 4, 'hello', 'all'}\n"
     ]
    }
   ],
   "source": [
    "s.add(3)\n",
    "s.add(4)\n",
    "s.add('hello')\n",
    "s.add('all')\n",
    "s.add(3)\n",
    "print(s)"
   ]
  },
  {
   "cell_type": "code",
   "execution_count": 19,
   "metadata": {},
   "outputs": [
    {
     "name": "stdout",
     "output_type": "stream",
     "text": [
      "{1, 2, 3, 4, 'hello'}\n"
     ]
    }
   ],
   "source": [
    "s.discard('all')\n",
    "print(s)"
   ]
  },
  {
   "cell_type": "code",
   "execution_count": 20,
   "metadata": {},
   "outputs": [
    {
     "name": "stdout",
     "output_type": "stream",
     "text": [
      "1\n",
      "2\n",
      "3\n",
      "4\n",
      "hello\n"
     ]
    }
   ],
   "source": [
    "for i in s:\n",
    "    print(i)"
   ]
  },
  {
   "cell_type": "code",
   "execution_count": 21,
   "metadata": {},
   "outputs": [
    {
     "name": "stdout",
     "output_type": "stream",
     "text": [
      "{'n', ' ', 'r', 'e', 'i', 'C', 's', 'a', 'd', 'M', 'h'}\n"
     ]
    }
   ],
   "source": [
    "name=set('Chandresh Mishra')\n",
    "print(name)"
   ]
  },
  {
   "attachments": {},
   "cell_type": "markdown",
   "metadata": {},
   "source": [
    "- ### set operations"
   ]
  },
  {
   "cell_type": "code",
   "execution_count": 22,
   "metadata": {},
   "outputs": [
    {
     "name": "stdout",
     "output_type": "stream",
     "text": [
      "{'apple', 'watermelon', 'pineapple', 'grapes', 'pineappple', 'banana', 'papaya', 'mango', 'kiwi', 'orange'}\n"
     ]
    }
   ],
   "source": [
    "g1={'apple','banana','orange','grapes','mango','pineappple','watermelon'}\n",
    "g2={'apple','grapes','mango','pineapple','watermelon','papaya','kiwi'}\n",
    "print(g1|g2)"
   ]
  },
  {
   "cell_type": "code",
   "execution_count": 23,
   "metadata": {},
   "outputs": [
    {
     "name": "stdout",
     "output_type": "stream",
     "text": [
      "{'apple', 'mango', 'grapes', 'watermelon'}\n"
     ]
    }
   ],
   "source": [
    "# intersection \n",
    "print(g1 & g2)"
   ]
  },
  {
   "cell_type": "code",
   "execution_count": 26,
   "metadata": {},
   "outputs": [
    {
     "name": "stdout",
     "output_type": "stream",
     "text": [
      "{'banana', 'orange', 'pineappple'}\n",
      "{'kiwi', 'papaya', 'pineapple'}\n",
      "{'kiwi', 'papaya', 'pineapple'}\n"
     ]
    }
   ],
   "source": [
    "# difference\n",
    "print(g1-g2)\n",
    "print(g2-g1)\n",
    "print(g2.difference(g1))"
   ]
  },
  {
   "cell_type": "code",
   "execution_count": 28,
   "metadata": {},
   "outputs": [
    {
     "name": "stdout",
     "output_type": "stream",
     "text": [
      "{'pineapple', 'pineappple', 'banana', 'papaya', 'kiwi', 'orange'}\n",
      "{'pineapple', 'pineappple', 'banana', 'papaya', 'kiwi', 'orange'}\n"
     ]
    }
   ],
   "source": [
    "# symmetric difference\n",
    "print(g1^g2) # elements in g1 or g2 but not in both\n",
    "print(g1.symmetric_difference(g2))"
   ]
  },
  {
   "cell_type": "code",
   "execution_count": 44,
   "metadata": {},
   "outputs": [
    {
     "name": "stdout",
     "output_type": "stream",
     "text": [
      "Rohan\n",
      "Maths 90\n",
      "Science 85\n",
      "Hindi 88\n",
      "Mohan\n",
      "Maths 92\n",
      "Science 80\n",
      "Hindi 72\n"
     ]
    }
   ],
   "source": [
    "report=[\n",
    "  ['Rohan',[\n",
    "      ['Maths',90],\n",
    "      ['Science',85],\n",
    "      ['Hindi',88],\n",
    "  ]],\n",
    "  ['Mohan',[\n",
    "      ['Maths',92],\n",
    "      ['Science',80],\n",
    "      ['Hindi',72]\n",
    "  ]]\n",
    "\n",
    "]\n",
    "for students in report:\n",
    "    for detail in students:\n",
    "        if isinstance(detail,str):\n",
    "            print(detail)\n",
    "        if isinstance(detail,list):\n",
    "            for subject in detail:\n",
    "                print(subject[0],subject[1]) \n",
    "                 \n",
    "                   \n",
    "         \n",
    " "
   ]
  },
  {
   "cell_type": "code",
   "execution_count": null,
   "metadata": {},
   "outputs": [],
   "source": []
  }
 ],
 "metadata": {
  "kernelspec": {
   "display_name": "base",
   "language": "python",
   "name": "python3"
  },
  "language_info": {
   "codemirror_mode": {
    "name": "ipython",
    "version": 3
   },
   "file_extension": ".py",
   "mimetype": "text/x-python",
   "name": "python",
   "nbconvert_exporter": "python",
   "pygments_lexer": "ipython3",
   "version": "3.10.10"
  },
  "orig_nbformat": 4
 },
 "nbformat": 4,
 "nbformat_minor": 2
}
